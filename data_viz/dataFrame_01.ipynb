{
 "cells": [
  {
   "metadata": {},
   "cell_type": "markdown",
   "source": [
    "# Lesson 1: Introduction to DataFrames\n",
    "\n",
    "A **DataFrame** is a two-dimensional, tabular data structure used in many programming languages, particularly in **Python's pandas library**. It is\n",
    "similar to a spreadsheet or a SQL table and is one of the most commonly used data structures in data manipulation and analysis.\n",
    "\n",
    "### Key Features of a DataFrame:\n",
    "1. **Rows and Columns:**\n",
    "    - A DataFrame consists of rows (observations) and columns (variables), allowing for structured representation of data.\n",
    "    - Each column typically represents a feature or attribute, while each row contains a data record (A type of information).\n",
    "\n",
    "2. **Labeled Indexes:**\n",
    "    - Both rows and columns have labels, which makes it easier to identify, access, and operate on specific data.\n",
    "\n",
    "3. **Heterogeneous Data Types:**\n",
    "    - A DataFrame can store heterogeneous data types, meaning that different columns can hold different kinds of data (e.g., integers, strings, floats, etc.).\n",
    "\n",
    "4. **Powerful Data Manipulation and Analysis Functions:**\n",
    "    - It is equipped with a wide range of functions to manipulate, filter, reshape, and analyze data efficiently."
   ],
   "id": "b4b7cd9f1edb5de5"
  },
  {
   "metadata": {
    "ExecuteTime": {
     "end_time": "2025-10-28T00:02:04.217474Z",
     "start_time": "2025-10-28T00:02:03.468022Z"
    }
   },
   "cell_type": "code",
   "source": [
    "import pandas as pd\n",
    "\n",
    "# Create a dictionary or different users data\n",
    "data = {\"Name\":[\"user1\",\"user2\",\"user3\"],\n",
    "        \"Age\":[20,21,22],\n",
    "        \"City\":[\"Bern\",\"Cairo\",\"Moscow\"]}\n",
    "\n",
    "# Convert the data dict. into a dataFrame\n",
    "df = pd.DataFrame(data) # Note that here DataFrame starts with the capital \"D\" as it is a constructor rather than a function\n",
    "print(df)"
   ],
   "id": "9416dd4cb4cac879",
   "outputs": [
    {
     "name": "stdout",
     "output_type": "stream",
     "text": [
      "    Name  Age    City\n",
      "0  user1   20    Bern\n",
      "1  user2   21   Cairo\n",
      "2  user3   22  Moscow\n"
     ]
    }
   ],
   "execution_count": 1
  },
  {
   "metadata": {
    "ExecuteTime": {
     "end_time": "2025-10-28T00:02:04.562005Z",
     "start_time": "2025-10-28T00:02:04.553471Z"
    }
   },
   "cell_type": "code",
   "source": [
    "# Create a DataFrame with custom row indexes \"labels\" (similar to Pandas behavior)\n",
    "df = pd.DataFrame(data, index=[101,102,103])\n",
    "print(df)"
   ],
   "id": "ee17c8ac95499c9e",
   "outputs": [
    {
     "name": "stdout",
     "output_type": "stream",
     "text": [
      "      Name  Age    City\n",
      "101  user1   20    Bern\n",
      "102  user2   21   Cairo\n",
      "103  user3   22  Moscow\n"
     ]
    }
   ],
   "execution_count": 2
  },
  {
   "metadata": {
    "ExecuteTime": {
     "end_time": "2025-10-28T00:02:04.812442Z",
     "start_time": "2025-10-28T00:02:04.805849Z"
    }
   },
   "cell_type": "code",
   "source": [
    "# Access the row with index label 102\n",
    "print(df.loc[102])"
   ],
   "id": "6acec7afab575e35",
   "outputs": [
    {
     "name": "stdout",
     "output_type": "stream",
     "text": [
      "Name    user2\n",
      "Age        21\n",
      "City    Cairo\n",
      "Name: 102, dtype: object\n"
     ]
    }
   ],
   "execution_count": 3
  },
  {
   "metadata": {
    "ExecuteTime": {
     "end_time": "2025-10-28T00:02:04.948841Z",
     "start_time": "2025-10-28T00:02:04.941822Z"
    }
   },
   "cell_type": "code",
   "source": [
    "# Access the row with by integer location\n",
    "print(df.iloc[0])"
   ],
   "id": "1b0d3149a0c8603f",
   "outputs": [
    {
     "name": "stdout",
     "output_type": "stream",
     "text": [
      "Name    user1\n",
      "Age        20\n",
      "City     Bern\n",
      "Name: 101, dtype: object\n"
     ]
    }
   ],
   "execution_count": 4
  },
  {
   "metadata": {
    "ExecuteTime": {
     "end_time": "2025-10-28T00:02:05.074389Z",
     "start_time": "2025-10-28T00:02:05.062383Z"
    }
   },
   "cell_type": "code",
   "source": [
    "# Add a new column to the DataFrame\n",
    "df[\"department\"] = [\"IT\", \"HR\", \"Finance\"]\n",
    "\n",
    "# Create a new DataFrame representing one additional row\n",
    "# Note that we can add more than one row just by adding more dictionaries ([{},{},{}])\n",
    "new_row = pd.DataFrame(\n",
    "    [{\"Name\": \"user4\", \"Age\": 23, \"City\": \"Paris\", \"department\": \"UI/UX\"}],\n",
    "    index=[104]\n",
    ")\n",
    "\n",
    "# Append the new row to the existing DataFrame\n",
    "df = pd.concat([df, new_row])\n",
    "print(df)"
   ],
   "id": "2834aca81a56c9e0",
   "outputs": [
    {
     "name": "stdout",
     "output_type": "stream",
     "text": [
      "      Name  Age    City department\n",
      "101  user1   20    Bern         IT\n",
      "102  user2   21   Cairo         HR\n",
      "103  user3   22  Moscow    Finance\n",
      "104  user4   23   Paris      UI/UX\n"
     ]
    }
   ],
   "execution_count": 5
  },
  {
   "metadata": {},
   "cell_type": "markdown",
   "source": "#### Working with CSV Files in Panda",
   "id": "b72248a94a5457a2"
  },
  {
   "metadata": {
    "ExecuteTime": {
     "end_time": "2025-10-28T00:02:05.277540Z",
     "start_time": "2025-10-28T00:02:05.252443Z"
    }
   },
   "cell_type": "code",
   "source": [
    "# 1- Read the CSV file into a DataFrame\n",
    "df = pd.read_csv(\"world_countries.csv\")\n",
    "\n",
    "# 2- Preview the dataset\n",
    "# Display the first 5 rows to understand the structure of the data\n",
    "# Note: Printing the whole DataFrame displays all data (maybe truncated for large datasets) first and last 5 rows\n",
    "# To print the whole DataFrame we would call the \"to_string\" function as \"print(df.to_string())\"\n",
    "print(\"First 5 rows of the dataset:\")\n",
    "print(df.head())\n",
    "\n",
    "# Check basic information — column names, data types, and missing values\n",
    "print(\"\\n Dataset Basic information:\")\n",
    "print(df.info())"
   ],
   "id": "b1accffbefaaa032",
   "outputs": [
    {
     "name": "stdout",
     "output_type": "stream",
     "text": [
      "First 5 rows of the dataset:\n",
      "          COUNTRY  GDP (BILLIONS) CODE\n",
      "0     Afghanistan           21.71  AFG\n",
      "1         Albania           13.40  ALB\n",
      "2         Algeria          227.80  DZA\n",
      "3  American Samoa            0.75  ASM\n",
      "4         Andorra            4.80  AND\n",
      "\n",
      " Dataset Basic information:\n",
      "<class 'pandas.core.frame.DataFrame'>\n",
      "RangeIndex: 222 entries, 0 to 221\n",
      "Data columns (total 3 columns):\n",
      " #   Column          Non-Null Count  Dtype  \n",
      "---  ------          --------------  -----  \n",
      " 0   COUNTRY         222 non-null    object \n",
      " 1   GDP (BILLIONS)  222 non-null    float64\n",
      " 2   CODE            222 non-null    object \n",
      "dtypes: float64(1), object(2)\n",
      "memory usage: 5.3+ KB\n",
      "None\n"
     ]
    }
   ],
   "execution_count": 6
  },
  {
   "metadata": {
    "ExecuteTime": {
     "end_time": "2025-10-28T00:02:05.432221Z",
     "start_time": "2025-10-28T00:02:05.415400Z"
    }
   },
   "cell_type": "code",
   "source": [
    "# We can Display certain data by row or col.\n",
    "print(\"Rows 0 to 1:\")\n",
    "print(df.loc[0:1])\n",
    "\n",
    "print(\"\\nColumn 'COUNTRY':\")\n",
    "print(df[\"COUNTRY\"]) # This will print the first and last 5 rows"
   ],
   "id": "19e32f9baaa73b33",
   "outputs": [
    {
     "name": "stdout",
     "output_type": "stream",
     "text": [
      "Rows 0 to 1:\n",
      "       COUNTRY  GDP (BILLIONS) CODE\n",
      "0  Afghanistan           21.71  AFG\n",
      "1      Albania           13.40  ALB\n",
      "\n",
      "Column 'COUNTRY':\n",
      "0         Afghanistan\n",
      "1             Albania\n",
      "2             Algeria\n",
      "3      American Samoa\n",
      "4             Andorra\n",
      "            ...      \n",
      "217    Virgin Islands\n",
      "218         West Bank\n",
      "219             Yemen\n",
      "220            Zambia\n",
      "221          Zimbabwe\n",
      "Name: COUNTRY, Length: 222, dtype: object\n"
     ]
    }
   ],
   "execution_count": 7
  },
  {
   "metadata": {
    "ExecuteTime": {
     "end_time": "2025-10-28T00:02:05.579566Z",
     "start_time": "2025-10-28T00:02:05.565193Z"
    }
   },
   "cell_type": "code",
   "source": [
    "# We can pass an argument to the read_csv index_col=\"COUNTRY\" sets the 'COUNTRY' column as the row index for easier lookup\n",
    "import pandas as pd\n",
    "df = pd.read_csv(\"world_countries.csv\", index_col=\"COUNTRY\")\n",
    "country_name = \"Egypt\"\n",
    "print(f\"Data for {country_name}\")\n",
    "print(df.loc[country_name])"
   ],
   "id": "7d8d49d1e2ab1204",
   "outputs": [
    {
     "name": "stdout",
     "output_type": "stream",
     "text": [
      "Data for Egypt\n",
      "GDP (BILLIONS)    284.9\n",
      "CODE                EGY\n",
      "Name: Egypt, dtype: object\n"
     ]
    }
   ],
   "execution_count": 8
  },
  {
   "metadata": {},
   "cell_type": "markdown",
   "source": "#### Basic exploration",
   "id": "e7793cc114ff219e"
  },
  {
   "metadata": {
    "ExecuteTime": {
     "end_time": "2025-10-28T00:02:05.750542Z",
     "start_time": "2025-10-28T00:02:05.736627Z"
    }
   },
   "cell_type": "code",
   "source": [
    "# Display summary statistics for numerical columns\n",
    "print(\"\\nSummary statistics:\")\n",
    "print(df.describe())\n",
    "\n",
    "# Check how many rows and columns the dataset has\n",
    "print(\"\\nShape of the DataFrame (rows, columns):\")\n",
    "print(df.shape)"
   ],
   "id": "ded9c7b21c178204",
   "outputs": [
    {
     "name": "stdout",
     "output_type": "stream",
     "text": [
      "\n",
      "Summary statistics:\n",
      "       GDP (BILLIONS)\n",
      "count      222.000000\n",
      "mean       352.637162\n",
      "std       1464.855533\n",
      "min          0.010000\n",
      "25%          4.615000\n",
      "50%         21.525000\n",
      "75%        196.200000\n",
      "max      17420.000000\n",
      "\n",
      "Shape of the DataFrame (rows, columns):\n",
      "(222, 2)\n"
     ]
    }
   ],
   "execution_count": 9
  }
 ],
 "metadata": {
  "kernelspec": {
   "display_name": "Python 3",
   "language": "python",
   "name": "python3"
  },
  "language_info": {
   "codemirror_mode": {
    "name": "ipython",
    "version": 2
   },
   "file_extension": ".py",
   "mimetype": "text/x-python",
   "name": "python",
   "nbconvert_exporter": "python",
   "pygments_lexer": "ipython2",
   "version": "2.7.6"
  }
 },
 "nbformat": 4,
 "nbformat_minor": 5
}
