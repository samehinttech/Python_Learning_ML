{
 "cells": [
  {
   "metadata": {},
   "cell_type": "markdown",
   "source": [
    "# Lesson 1: Introduction to DataFrames\n",
    "\n",
    "A **DataFrame** is a two-dimensional, tabular data structure used in many programming languages, particularly in **Python's pandas library**. It is\n",
    "similar to a spreadsheet or a SQL table and is one of the most commonly used data structures in data manipulation and analysis.\n",
    "\n",
    "### Key Features of a DataFrame:\n",
    "1. **Rows and Columns:**\n",
    "    - A DataFrame consists of rows (observations) and columns (variables), allowing for structured representation of data.\n",
    "    - Each column typically represents a feature or attribute, while each row contains a data record (A type of information).\n",
    "\n",
    "2. **Labeled Indexes:**\n",
    "    - Both rows and columns have labels, which makes it easier to identify, access, and operate on specific data.\n",
    "\n",
    "3. **Heterogeneous Data Types:**\n",
    "    - A DataFrame can store heterogeneous data types, meaning that different columns can hold different kinds of data (e.g., integers, strings, floats, etc.).\n",
    "\n",
    "4. **Powerful Data Manipulation and Analysis Functions:**\n",
    "    - It is equipped with a wide range of functions to manipulate, filter, reshape, and analyze data efficiently."
   ],
   "id": "b4b7cd9f1edb5de5"
  },
  {
   "metadata": {
    "ExecuteTime": {
     "end_time": "2025-10-27T22:40:27.291553Z",
     "start_time": "2025-10-27T22:40:27.281070Z"
    }
   },
   "cell_type": "code",
   "source": [
    "import pandas as pd\n",
    "\n",
    "# Create a dictionary or different users data\n",
    "data = {\"Name\":[\"user1\",\"user2\",\"user3\"],\n",
    "        \"Age\":[20,21,22],\n",
    "        \"City\":[\"Bern\",\"Cairo\",\"Moscow\"]}\n",
    "\n",
    "# Convert the data dict. into a dataFrame\n",
    "df = pd.DataFrame(data) # Note that here DataFrame starts with the capital \"D\" as it is a constructor rather than a function\n",
    "print(df)"
   ],
   "id": "9416dd4cb4cac879",
   "outputs": [
    {
     "name": "stdout",
     "output_type": "stream",
     "text": [
      "    Name  Age    City\n",
      "0  user1   20    Bern\n",
      "1  user2   21   Cairo\n",
      "2  user3   22  Moscow\n"
     ]
    }
   ],
   "execution_count": 2
  },
  {
   "metadata": {
    "ExecuteTime": {
     "end_time": "2025-10-27T22:47:48.476400Z",
     "start_time": "2025-10-27T22:47:48.464345Z"
    }
   },
   "cell_type": "code",
   "source": [
    "# Create a DataFrame with custom row indexes \"labels\" (similar to Pandas behavior)\n",
    "df = pd.DataFrame(data, index=[101,102,103])\n",
    "print(df)"
   ],
   "id": "ee17c8ac95499c9e",
   "outputs": [
    {
     "name": "stdout",
     "output_type": "stream",
     "text": [
      "      Name  Age    City\n",
      "101  user1   20    Bern\n",
      "102  user2   21   Cairo\n",
      "103  user3   22  Moscow\n"
     ]
    }
   ],
   "execution_count": 3
  },
  {
   "metadata": {
    "ExecuteTime": {
     "end_time": "2025-10-27T22:50:55.568010Z",
     "start_time": "2025-10-27T22:50:55.555027Z"
    }
   },
   "cell_type": "code",
   "source": [
    "# Access the row with index label 102\n",
    "print(df.loc[102])"
   ],
   "id": "6acec7afab575e35",
   "outputs": [
    {
     "name": "stdout",
     "output_type": "stream",
     "text": [
      "Name    user2\n",
      "Age        21\n",
      "City    Cairo\n",
      "Name: 102, dtype: object\n"
     ]
    }
   ],
   "execution_count": 4
  },
  {
   "metadata": {
    "ExecuteTime": {
     "end_time": "2025-10-27T22:52:45.732928Z",
     "start_time": "2025-10-27T22:52:45.726574Z"
    }
   },
   "cell_type": "code",
   "source": [
    "# Access the row with by integer location\n",
    "print(df.iloc[0])"
   ],
   "id": "1b0d3149a0c8603f",
   "outputs": [
    {
     "name": "stdout",
     "output_type": "stream",
     "text": [
      "Name    user1\n",
      "Age        20\n",
      "City     Bern\n",
      "Name: 101, dtype: object\n"
     ]
    }
   ],
   "execution_count": 5
  },
  {
   "metadata": {
    "ExecuteTime": {
     "end_time": "2025-10-27T23:00:08.250363Z",
     "start_time": "2025-10-27T23:00:08.236058Z"
    }
   },
   "cell_type": "code",
   "source": [
    "# Add a new column to the DataFrame\n",
    "df[\"department\"] = [\"IT\", \"HR\", \"Finance\"]\n",
    "\n",
    "# Create a new DataFrame representing one additional row\n",
    "# Note that we can add more than one row just by adding more dictionaries ([{},{},{}])\n",
    "new_row = pd.DataFrame(\n",
    "    [{\"Name\": \"user4\", \"Age\": 23, \"City\": \"Paris\", \"department\": \"UI/UX\"}],\n",
    "    index=[104]\n",
    ")\n",
    "\n",
    "# Append the new row to the existing DataFrame\n",
    "df = pd.concat([df, new_row])\n",
    "print(df)"
   ],
   "id": "2834aca81a56c9e0",
   "outputs": [
    {
     "name": "stdout",
     "output_type": "stream",
     "text": [
      "      Name  Age    City department\n",
      "101  user1   20    Bern         IT\n",
      "102  user2   21   Cairo         HR\n",
      "103  user3   22  Moscow    Finance\n",
      "104  user4   23   Paris      UI/UX\n"
     ]
    }
   ],
   "execution_count": 6
  }
 ],
 "metadata": {
  "kernelspec": {
   "display_name": "Python 3",
   "language": "python",
   "name": "python3"
  },
  "language_info": {
   "codemirror_mode": {
    "name": "ipython",
    "version": 2
   },
   "file_extension": ".py",
   "mimetype": "text/x-python",
   "name": "python",
   "nbconvert_exporter": "python",
   "pygments_lexer": "ipython2",
   "version": "2.7.6"
  }
 },
 "nbformat": 4,
 "nbformat_minor": 5
}
