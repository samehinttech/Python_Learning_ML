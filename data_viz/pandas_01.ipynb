{
 "cells": [
  {
   "cell_type": "markdown",
   "id": "f896ce7a2e3101bc",
   "metadata": {},
   "source": [
    "# Lesson 1\n",
    "A **Pandas Series** is a one-dimensional labeled array that can store various data types, such as:\n",
    "- Integers\n",
    "- Floats\n",
    "- Strings\n",
    "- Objects\n",
    "- Booleans\n",
    "\n",
    "You can think of a Pandas Series as a **single column in an Excel sheet**, where:\n",
    "- The **index** represents the row labels.\n",
    "- The **values** represent the column data."
   ]
  },
  {
   "cell_type": "code",
   "id": "5b62bdcc83745f1d",
   "metadata": {
    "ExecuteTime": {
     "end_time": "2025-10-27T15:50:52.539153Z",
     "start_time": "2025-10-27T15:50:51.744921Z"
    }
   },
   "source": [
    "import pandas as pd\n",
    "# Create a data list of integers\n",
    "data = [20, 40, 60, 80]\n",
    "# Create a Panda Series object of the dat list\n",
    "series = pd.Series(data)\n",
    "print(series)"
   ],
   "outputs": [
    {
     "name": "stdout",
     "output_type": "stream",
     "text": [
      "0    20\n",
      "1    40\n",
      "2    60\n",
      "3    80\n",
      "dtype: int64\n"
     ]
    }
   ],
   "execution_count": 1
  },
  {
   "cell_type": "code",
   "id": "8758f339595b7dfc",
   "metadata": {
    "ExecuteTime": {
     "end_time": "2025-10-27T15:50:53.426886Z",
     "start_time": "2025-10-27T15:50:53.418896Z"
    }
   },
   "source": [
    "\"\"\"\n",
    "We can also create a Series from a list containing both strings and integers.\n",
    "When a Series has mixed data types, Pandas automatically sets its dtype to 'object'.\n",
    "This happens because 'object' is a generic type that can store multiple kinds of Python objects.\n",
    "In this case, Pandas cannot assign a single numeric dtype since the list contains strings.\n",
    "\"\"\"\n",
    "data = [20, 40, 60, 80, 'A', 'B', 'C']\n",
    "series = pd.Series(data)\n",
    "print(series)"
   ],
   "outputs": [
    {
     "name": "stdout",
     "output_type": "stream",
     "text": [
      "0    20\n",
      "1    40\n",
      "2    60\n",
      "3    80\n",
      "4     A\n",
      "5     B\n",
      "6     C\n",
      "dtype: object\n"
     ]
    }
   ],
   "execution_count": 2
  },
  {
   "cell_type": "code",
   "id": "1d56b0b33080bd4b",
   "metadata": {
    "ExecuteTime": {
     "end_time": "2025-10-27T15:50:53.511593Z",
     "start_time": "2025-10-27T15:50:53.498095Z"
    }
   },
   "source": [
    "# We Can also define the index explicitly while creating the Series\n",
    "# By providing a custom list of index labels, each value is associated with a specific label.\n",
    "data = [20, 40, 60, 80]\n",
    "index = ['idx01', 'idx02', 'idx03', 'idx04']\n",
    "series = pd.Series(data, index=index)\n",
    "print(series)\n",
    "\n",
    "# Accessing values in a Pandas Series\n",
    "\n",
    "# Using the index label directly (like a dictionary key)\n",
    "print(f\"Access by index label ['idx02']: {series['idx02']}\")\n",
    "\n",
    "# Using the .loc[] accessor with the index label\n",
    "print(f\"Access by .loc with label 'idx02': {series.loc['idx02']}\")\n",
    "\n",
    "# Using the .iloc[] accessor to access by integer position\n",
    "# Note: Python uses zero-based indexing, so iloc[1] refers to the 2nd element\n",
    "print(f\"Access by .iloc at position 2: {series.iloc[1]}\")\n"
   ],
   "outputs": [
    {
     "name": "stdout",
     "output_type": "stream",
     "text": [
      "idx01    20\n",
      "idx02    40\n",
      "idx03    60\n",
      "idx04    80\n",
      "dtype: int64\n",
      "Access by index label ['idx02']: 40\n",
      "Access by .loc with label 'idx02': 40\n",
      "Access by .iloc at position 2: 40\n"
     ]
    }
   ],
   "execution_count": 3
  },
  {
   "cell_type": "code",
   "id": "76a552a15d03ef62",
   "metadata": {
    "ExecuteTime": {
     "end_time": "2025-10-27T15:50:53.597966Z",
     "start_time": "2025-10-27T15:50:53.588508Z"
    }
   },
   "source": [
    "# We can Filter a Series based on a condition\n",
    "# Using the .loc[] accessor with a condition\n",
    "print(f\"Filter by condition using the .loc[] accessor: \\n{series.loc[series > 40]}\")\n",
    "\n",
    "# We can also use only key-value pairs that satisfy the condition\n",
    "print(f\"Filter by condition using only key-value pairs: \\n{series[series < 80]}\")"
   ],
   "outputs": [
    {
     "name": "stdout",
     "output_type": "stream",
     "text": [
      "Filter by condition using the .loc[] accessor: \n",
      "idx03    60\n",
      "idx04    80\n",
      "dtype: int64\n",
      "Filter by condition using only key-value pairs: \n",
      "idx01    20\n",
      "idx02    40\n",
      "idx03    60\n",
      "dtype: int64\n"
     ]
    }
   ],
   "execution_count": 4
  },
  {
   "cell_type": "code",
   "id": "5bb7bb3016405a8c",
   "metadata": {
    "ExecuteTime": {
     "end_time": "2025-10-27T15:50:53.680175Z",
     "start_time": "2025-10-27T15:50:53.672781Z"
    }
   },
   "source": [
    "# Creating a Series from a dictionary, dictionary is key-value pairs\n",
    "# Keys of the dictionary become the index labels\n",
    "# Values become the Series values\n",
    "data_dict = {'Math': 90, 'Physics': 85, 'Chemistry': 78, 'English': 92}\n",
    "grades = pd.Series(data_dict)\n",
    "\n",
    "print(\"Series created from dictionary:\")\n",
    "print(grades)\n",
    "\n",
    "# Accessing values by the index label\n",
    "print(f\"\\nGrade in Physics: {grades['Physics']}\")\n",
    "\n",
    "# Using .loc[] with a label\n",
    "print(f\"Grade in Chemistry using .loc: {grades.loc['Chemistry']}\")\n",
    "\n",
    "# Using .iloc[] with position\n",
    "print(f\"Grade in third subject using .iloc: {grades.iloc[2]}\")"
   ],
   "outputs": [
    {
     "name": "stdout",
     "output_type": "stream",
     "text": [
      "Series created from dictionary:\n",
      "Math         90\n",
      "Physics      85\n",
      "Chemistry    78\n",
      "English      92\n",
      "dtype: int64\n",
      "\n",
      "Grade in Physics: 85\n",
      "Grade in Chemistry using .loc: 78\n",
      "Grade in third subject using .iloc: 78\n"
     ]
    }
   ],
   "execution_count": 5
  },
  {
   "cell_type": "markdown",
   "id": "4188f9059d95e806",
   "metadata": {},
   "source": [
    "### A quiz to think about\n",
    "Create a Pandas Series that maps weekdays to their day numbers (1 = Monday, 2 = Tuesday, …, 7 = Sunday).\n",
    "Happy Coding"
   ]
  }
 ],
 "metadata": {
  "kernelspec": {
   "display_name": "Python 3 (ipykernel)",
   "language": "python",
   "name": "python3"
  },
  "language_info": {
   "codemirror_mode": {
    "name": "ipython",
    "version": 3
   },
   "file_extension": ".py",
   "mimetype": "text/x-python",
   "name": "python",
   "nbconvert_exporter": "python",
   "pygments_lexer": "ipython3",
   "version": "3.12.10"
  }
 },
 "nbformat": 4,
 "nbformat_minor": 5
}
