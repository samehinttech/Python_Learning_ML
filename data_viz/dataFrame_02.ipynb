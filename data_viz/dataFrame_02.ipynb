{
 "cells": [
  {
   "metadata": {},
   "cell_type": "markdown",
   "source": [
    "# DataFrames: 2nd Part\n",
    "\n",
    "In this I will explore more functionalities of DataFrames\n",
    "* Filtering rows\n",
    "* Adding new columns and overriding the .csv file\n",
    "* Removing columns\n",
    "* Renaming columns\n",
    "* Indexing and selecting data\n",
    "* Sorting data\n",
    "* Handling missing data\n",
    "* Grouping data\n",
    "* Simple exercise to find row data based on user input"
   ],
   "id": "d154a63196f1b8e8"
  },
  {
   "metadata": {
    "ExecuteTime": {
     "end_time": "2025-10-28T13:59:17.034117Z",
     "start_time": "2025-10-28T13:59:17.019268Z"
    }
   },
   "cell_type": "code",
   "source": [
    "# Import necessary libraries\n",
    "import pandas as pd\n",
    "\n",
    "# Create a sample DataFrame\n",
    "df = pd.read_csv('data/world_countries.csv')\n",
    "# Filter rows where COUNTRY GPD is greater than 60 Billion\n",
    "print(f\"Countries with GDP greater than 60 Billion: \\n{df[df['GDP (BILLIONS)'] > 60]}\\n\")"
   ],
   "id": "9d823a1450d35964",
   "outputs": [
    {
     "name": "stdout",
     "output_type": "stream",
     "text": [
      "Countries with GDP greater than 60 Billion: \n",
      "            COUNTRY  GDP (BILLIONS) CODE\n",
      "2           Algeria          227.80  DZA\n",
      "5            Angola          131.40  AGO\n",
      "8         Argentina          536.20  ARG\n",
      "11        Australia         1483.00  AUS\n",
      "12          Austria          436.10  AUT\n",
      "..              ...             ...  ...\n",
      "210  United Kingdom         2848.00  GBR\n",
      "211   United States        17420.00  USA\n",
      "213      Uzbekistan           63.08  UZB\n",
      "215       Venezuela          209.20  VEN\n",
      "216         Vietnam          187.80  VNM\n",
      "\n",
      "[78 rows x 3 columns]\n",
      "\n"
     ]
    }
   ],
   "execution_count": 3
  },
  {
   "metadata": {
    "ExecuteTime": {
     "end_time": "2025-10-28T14:00:55.541624Z",
     "start_time": "2025-10-28T14:00:55.526705Z"
    }
   },
   "cell_type": "code",
   "source": [
    "# Add a new column 'High GDP' that indicates if GDP is greater than 100 Billion (imaginary threshold)\n",
    "df['GDP_Category'] = df['GDP (BILLIONS)'].apply(lambda x: 'High' if x > 100 else 'Low')\n",
    "print(f\"DataFrame with new column 'GDP_Category':\\n{df.head()}\\n\")\n",
    "\n",
    "# merge (override) the added col. with .csv file\n",
    "df.to_csv(\"data/world_countries.csv\", index=False)"
   ],
   "id": "b183a1f18d345446",
   "outputs": [
    {
     "name": "stdout",
     "output_type": "stream",
     "text": [
      "DataFrame with new column 'GDP_Category':\n",
      "          COUNTRY  GDP (BILLIONS) CODE GDP_Category\n",
      "0     Afghanistan           21.71  AFG          Low\n",
      "1         Albania           13.40  ALB          Low\n",
      "2         Algeria          227.80  DZA         High\n",
      "3  American Samoa            0.75  ASM          Low\n",
      "4         Andorra            4.80  AND          Low\n",
      "\n"
     ]
    }
   ],
   "execution_count": 5
  },
  {
   "metadata": {
    "ExecuteTime": {
     "end_time": "2025-10-28T14:01:00.194581Z",
     "start_time": "2025-10-28T14:01:00.184581Z"
    }
   },
   "cell_type": "code",
   "source": [
    "# Remove the 'GDP_Category' column\n",
    "df = df.drop(columns=['GDP_Category'])\n",
    "print(f\"DataFrame after removing 'GDP_Category' column:\\n{df.head()}\\n\")"
   ],
   "id": "dff95e66546fafec",
   "outputs": [
    {
     "name": "stdout",
     "output_type": "stream",
     "text": [
      "DataFrame after removing 'GDP_Category' column:\n",
      "          COUNTRY  GDP (BILLIONS) CODE\n",
      "0     Afghanistan           21.71  AFG\n",
      "1         Albania           13.40  ALB\n",
      "2         Algeria          227.80  DZA\n",
      "3  American Samoa            0.75  ASM\n",
      "4         Andorra            4.80  AND\n",
      "\n"
     ]
    }
   ],
   "execution_count": 6
  },
  {
   "metadata": {
    "ExecuteTime": {
     "end_time": "2025-10-28T14:01:06.724779Z",
     "start_time": "2025-10-28T14:01:06.715613Z"
    }
   },
   "cell_type": "code",
   "source": [
    "# Rename the 'COUNTRY' column to 'NATION'\n",
    "df = df.rename(columns={'COUNTRY': 'NATION'})\n",
    "print(f\"DataFrame after renaming 'COUNTRY' to 'NATION':\\n{df.head()}\\n\")"
   ],
   "id": "d89b098522fd1e47",
   "outputs": [
    {
     "name": "stdout",
     "output_type": "stream",
     "text": [
      "DataFrame after renaming 'COUNTRY' to 'NATION':\n",
      "           NATION  GDP (BILLIONS) CODE\n",
      "0     Afghanistan           21.71  AFG\n",
      "1         Albania           13.40  ALB\n",
      "2         Algeria          227.80  DZA\n",
      "3  American Samoa            0.75  ASM\n",
      "4         Andorra            4.80  AND\n",
      "\n"
     ]
    }
   ],
   "execution_count": 7
  },
  {
   "metadata": {
    "ExecuteTime": {
     "end_time": "2025-10-28T14:01:17.336863Z",
     "start_time": "2025-10-28T14:01:17.325394Z"
    }
   },
   "cell_type": "code",
   "source": [
    "# Set 'NATION' as the index of the DataFrame\n",
    "df = df.set_index('NATION')\n",
    "print(f\"DataFrame with 'NATION' as index:\\n{df.head()}\\n\")"
   ],
   "id": "862046825ea855d8",
   "outputs": [
    {
     "name": "stdout",
     "output_type": "stream",
     "text": [
      "DataFrame with 'NATION' as index:\n",
      "                GDP (BILLIONS) CODE\n",
      "NATION                             \n",
      "Afghanistan              21.71  AFG\n",
      "Albania                  13.40  ALB\n",
      "Algeria                 227.80  DZA\n",
      "American Samoa            0.75  ASM\n",
      "Andorra                   4.80  AND\n",
      "\n"
     ]
    }
   ],
   "execution_count": 8
  },
  {
   "metadata": {
    "ExecuteTime": {
     "end_time": "2025-10-28T14:01:25.187019Z",
     "start_time": "2025-10-28T14:01:25.176493Z"
    }
   },
   "cell_type": "code",
   "source": [
    "# Sort the DataFrame by 'GDP (BILLIONS)' in descending order\n",
    "df = df.sort_values(by='GDP (BILLIONS)', ascending=False)\n",
    "print(f\"DataFrame sorted by 'GDP (BILLIONS)' in descending order:\\n{df.head()}\\n\")"
   ],
   "id": "ad6f54cb12bd10a",
   "outputs": [
    {
     "name": "stdout",
     "output_type": "stream",
     "text": [
      "DataFrame sorted by 'GDP (BILLIONS)' in descending order:\n",
      "               GDP (BILLIONS) CODE\n",
      "NATION                            \n",
      "United States         17420.0  USA\n",
      "China                 10360.0  CHN\n",
      "Japan                  4770.0  JPN\n",
      "Germany                3820.0  DEU\n",
      "France                 2902.0  FRA\n",
      "\n"
     ]
    }
   ],
   "execution_count": 9
  },
  {
   "metadata": {
    "ExecuteTime": {
     "end_time": "2025-10-28T14:01:42.642236Z",
     "start_time": "2025-10-28T14:01:42.630223Z"
    }
   },
   "cell_type": "code",
   "source": [
    "# Handle missing data by filling NaN values with the mean of the column\n",
    "\n",
    "# For demonstration, let's introduce some NaN values\n",
    "import numpy as np\n",
    "\n",
    "# Introduce NaN values in the first 20 rows of 'GDP (BILLIONS)'\n",
    "df.iloc[:20, df.columns.get_loc('GDP (BILLIONS)')] = np.nan\n",
    "print(f\"DataFrame with introduced NaN values:\\n{df.head()}\\n\")\n",
    "\n",
    "# Fill missing values with the mean of each numeric column\n",
    "df = df.fillna(df.mean(numeric_only=True))\n",
    "print(f\"DataFrame after handling missing data:\\n{df.head()}\\n\")\n",
    "\n",
    "# To fill only one column’s NaN values (not the whole DataFrame), use:\n",
    "# df['GDP (BILLIONS)'].fillna(df['GDP (BILLIONS)'].mean(), inplace=True)"
   ],
   "id": "82a346253b80a1bd",
   "outputs": [
    {
     "name": "stdout",
     "output_type": "stream",
     "text": [
      "DataFrame with introduced NaN values:\n",
      "               GDP (BILLIONS) CODE\n",
      "NATION                            \n",
      "United States             NaN  USA\n",
      "China                     NaN  CHN\n",
      "Japan                     NaN  JPN\n",
      "Germany                   NaN  DEU\n",
      "France                    NaN  FRA\n",
      "\n",
      "DataFrame after handling missing data:\n",
      "               GDP (BILLIONS) CODE\n",
      "NATION                            \n",
      "United States       80.681931  USA\n",
      "China               80.681931  CHN\n",
      "Japan               80.681931  JPN\n",
      "Germany             80.681931  DEU\n",
      "France              80.681931  FRA\n",
      "\n"
     ]
    }
   ],
   "execution_count": 10
  },
  {
   "metadata": {
    "ExecuteTime": {
     "end_time": "2025-10-28T14:03:20.018335Z",
     "start_time": "2025-10-28T14:03:20.007337Z"
    }
   },
   "cell_type": "code",
   "source": [
    "# Group the DataFrame by 'GDP_Category' status and calculate the mean GDP for each group\n",
    "# First, we need to re-add the 'GDP_Category' column for grouping\n",
    "df['GDP_Category'] = df['GDP (BILLIONS)'].apply(lambda x: 'High' if x > 100 else 'Low')\n",
    "grouped_df = df.groupby('GDP_Category').mean(numeric_only=True)\n",
    "print(f\"Grouped DataFrame by 'GDP_Category' level:\\n{grouped_df}\\n\")"
   ],
   "id": "29951d0eb6c539fe",
   "outputs": [
    {
     "name": "stdout",
     "output_type": "stream",
     "text": [
      "Grouped DataFrame by 'GDP_Category' level:\n",
      "              GDP (BILLIONS)\n",
      "GDP_Category                \n",
      "High              300.590909\n",
      "Low                26.322408\n",
      "\n"
     ]
    }
   ],
   "execution_count": 12
  },
  {
   "metadata": {
    "ExecuteTime": {
     "end_time": "2025-10-28T14:03:37.349132Z",
     "start_time": "2025-10-28T14:03:32.327577Z"
    }
   },
   "cell_type": "code",
   "source": [
    "# Simple exercise: Find and display data for a country based on user input (COUNTRY or CODE)\n",
    "# First reset index as we changed it before\n",
    "df = df.reset_index()\n",
    "# And re-rename 'NATION' back to 'COUNTRY' as we changed it before\n",
    "df = df.rename(columns={'NATION': 'COUNTRY'})\n",
    "user_input = input(\"Enter a COUNTRY name or CODE to find its data: \")\n",
    "result = df[(df['COUNTRY'].str.lower() == user_input.lower()) | (df['CODE'].str.lower() == user_input.lower())]\n",
    "try:\n",
    "  if not result.empty:\n",
    "    print(f\"Data for {user_input}:\\n{result}\\n\")\n",
    "  else:\n",
    "    print(f\"No data found for {user_input}.\\n\")\n",
    "except Exception as e:\n",
    "  print(f\"An error occurred: {e}\\n\")"
   ],
   "id": "222320887fabb324",
   "outputs": [
    {
     "name": "stdout",
     "output_type": "stream",
     "text": [
      "Data for usa:\n",
      "         COUNTRY  GDP (BILLIONS) CODE GDP_Category\n",
      "0  United States       80.681931  USA          Low\n",
      "\n"
     ]
    }
   ],
   "execution_count": 13
  },
  {
   "metadata": {
    "ExecuteTime": {
     "end_time": "2025-10-28T14:14:29.542749Z",
     "start_time": "2025-10-28T14:14:29.532245Z"
    }
   },
   "cell_type": "code",
   "source": [
    "# Remove the changes that been made to the original .csv file\n",
    "if 'GDP_Category' in df.columns:\n",
    "    df = df.drop(columns=['GDP_Category'])\n",
    "df.to_csv(\"data/world_countries.csv\", index=False)"
   ],
   "id": "6782375f946eab1f",
   "outputs": [],
   "execution_count": 14
  }
 ],
 "metadata": {
  "kernelspec": {
   "display_name": "Python 3",
   "language": "python",
   "name": "python3"
  },
  "language_info": {
   "codemirror_mode": {
    "name": "ipython",
    "version": 2
   },
   "file_extension": ".py",
   "mimetype": "text/x-python",
   "name": "python",
   "nbconvert_exporter": "python",
   "pygments_lexer": "ipython2",
   "version": "2.7.6"
  }
 },
 "nbformat": 4,
 "nbformat_minor": 5
}
