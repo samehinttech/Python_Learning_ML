{
 "cells": [
  {
   "metadata": {
    "ExecuteTime": {
     "end_time": "2025-10-13T17:13:22.769494Z",
     "start_time": "2025-10-13T17:12:35.571647Z"
    }
   },
   "cell_type": "code",
   "source": [
    "\"\"\"\n",
    "Program to prompt the user to add grocery items to the shopping list and then display the final list.\n",
    "\"\"\"\n",
    "# Initialize an empty list to store grocery items\n",
    "shopping_cart = []\n",
    "# Prompt the user to enter grocery items\n",
    "while True:\n",
    "    item = input(\"Enter a grocery item (or type 'done' to finish): \")\n",
    "    if item.lower() == 'done':\n",
    "        break\n",
    "    shopping_cart.append(item)\n",
    "# Display the final shopping list\n",
    "print(\"Your shopping list:\")\n",
    "for item in shopping_cart:\n",
    "    print(f\"- {item}\")"
   ],
   "id": "9d627b6470d9e63e",
   "outputs": [
    {
     "name": "stdout",
     "output_type": "stream",
     "text": [
      "Your shopping list:\n",
      "- Banana\n",
      "- Apple\n",
      "- Tomato\n"
     ]
    }
   ],
   "execution_count": 3
  }
 ],
 "metadata": {
  "kernelspec": {
   "display_name": "Python 3",
   "language": "python",
   "name": "python3"
  },
  "language_info": {
   "codemirror_mode": {
    "name": "ipython",
    "version": 2
   },
   "file_extension": ".py",
   "mimetype": "text/x-python",
   "name": "python",
   "nbconvert_exporter": "python",
   "pygments_lexer": "ipython2",
   "version": "2.7.6"
  }
 },
 "nbformat": 4,
 "nbformat_minor": 5
}
